{
 "cells": [
  {
   "cell_type": "markdown",
   "id": "5915a82d",
   "metadata": {},
   "source": [
    "  # Excercise 1 for loops\n",
    "  # First exercise\n",
    "  Q. Write a program to get grades of students as user inputs into an array"
   ]
  },
  {
   "cell_type": "code",
   "execution_count": 1,
   "id": "dc02e3e8",
   "metadata": {},
   "outputs": [
    {
     "name": "stdout",
     "output_type": "stream",
     "text": [
      "Number of Students? 5\n",
      "Enter marks 12\n",
      "Enter marks 45\n",
      "Enter marks 74\n",
      "Enter marks 85\n",
      "Enter marks 65\n",
      "[12, 45, 74, 85, 65]\n"
     ]
    }
   ],
   "source": [
    "n = int(input(\"Number of Students? \"))\n",
    "arrofmarks = []\n",
    "\n",
    "for i in range(n):\n",
    "    quizmarks = int(input(\"Enter marks \"))\n",
    "    arrofmarks.append(quizmarks)\n",
    "    \n",
    "print(arrofmarks)"
   ]
  },
  {
   "cell_type": "markdown",
   "id": "4f5f5e34",
   "metadata": {},
   "source": [
    "# Second excercise\n",
    "Obtain the average of all the grades and print it after the entry."
   ]
  },
  {
   "cell_type": "code",
   "execution_count": 2,
   "id": "54ab758b",
   "metadata": {},
   "outputs": [
    {
     "name": "stdout",
     "output_type": "stream",
     "text": [
      "56.2\n"
     ]
    }
   ],
   "source": [
    "sumofarr = 0\n",
    "\n",
    "for i in arrofmarks:\n",
    "    sumofarr = sumofarr + i\n",
    "    \n",
    "print(sumofarr/n)\n",
    "    "
   ]
  },
  {
   "cell_type": "markdown",
   "id": "d2dc9179",
   "metadata": {},
   "source": [
    "## Third Exercise\n",
    "Q. Show the max and min grades in the list"
   ]
  },
  {
   "cell_type": "code",
   "execution_count": 3,
   "id": "3f92b09e",
   "metadata": {},
   "outputs": [
    {
     "name": "stdout",
     "output_type": "stream",
     "text": [
      "Minimum is  12\n",
      "Maximum is  85\n"
     ]
    }
   ],
   "source": [
    "min = 101\n",
    "max = -1\n",
    "\n",
    "for i in arrofmarks:\n",
    "    if (i>max):\n",
    "        max = i\n",
    "    if (i<min):\n",
    "        min = i\n",
    "        \n",
    "print(\"Minimum is \",min)\n",
    "print(\"Maximum is \",max)"
   ]
  },
  {
   "cell_type": "markdown",
   "id": "da36021b",
   "metadata": {},
   "source": [
    "# While Loop Working"
   ]
  },
  {
   "cell_type": "code",
   "execution_count": 4,
   "id": "ab0fa169",
   "metadata": {},
   "outputs": [
    {
     "name": "stdout",
     "output_type": "stream",
     "text": [
      "Count = 0\n",
      "Count = 1\n",
      "Count = 2\n",
      "Count = 3\n",
      "Count = 4\n",
      "Count = 5\n",
      "Count = 6\n",
      "Count = 7\n",
      "Count = 8\n",
      "Count = 9\n",
      "Count = 10\n"
     ]
    }
   ],
   "source": [
    "i = 0\n",
    "\n",
    "while(i<11):\n",
    "    print(\"Count =\",i)\n",
    "    i += 1"
   ]
  },
  {
   "cell_type": "code",
   "execution_count": 5,
   "id": "bc1c6dff",
   "metadata": {},
   "outputs": [
    {
     "name": "stdout",
     "output_type": "stream",
     "text": [
      "input a text:Hi\n",
      "input a text:There\n",
      "input a text:445\n",
      "input a text:Quit\n",
      "The list of commands given are: ['Hi', 'There', '445', 'Quit']\n"
     ]
    }
   ],
   "source": [
    "arrofinput = []\n",
    "\n",
    "while(True):\n",
    "    userinput = input(\"input a text:\")\n",
    "    arrofinput.append(userinput)\n",
    "    if(userinput == \"Quit\"):\n",
    "        break\n",
    "print(\"The list of commands given are:\",arrofinput)\n"
   ]
  },
  {
   "cell_type": "code",
   "execution_count": 6,
   "id": "99cd576b",
   "metadata": {},
   "outputs": [
    {
     "name": "stdout",
     "output_type": "stream",
     "text": [
      "Count is 0\n",
      "Count is 1\n",
      "Count is 2\n",
      "Count is 3\n",
      "Count is 4\n"
     ]
    }
   ],
   "source": [
    "i = 0\n",
    "while(i<11):\n",
    "    print(\"Count is\",i)\n",
    "    i = i + 1\n",
    "    if(i>4):\n",
    "        break"
   ]
  },
  {
   "cell_type": "markdown",
   "id": "f241431c",
   "metadata": {},
   "source": [
    "Q. Write a program that prints numbers from 1 to 10 using an infinite while loop."
   ]
  },
  {
   "cell_type": "code",
   "execution_count": 7,
   "id": "9fd36713",
   "metadata": {},
   "outputs": [
    {
     "name": "stdout",
     "output_type": "stream",
     "text": [
      "Count is 1\n",
      "Count is 2\n",
      "Count is 3\n",
      "Count is 4\n",
      "Count is 5\n",
      "Count is 6\n",
      "Count is 7\n",
      "Count is 8\n",
      "Count is 9\n",
      "Count is 10\n"
     ]
    }
   ],
   "source": [
    "i = 1\n",
    "while True:\n",
    "    print(\"Count is\",i)\n",
    "    i += 1\n",
    "    if i>10:\n",
    "        break\n",
    "    "
   ]
  },
  {
   "cell_type": "code",
   "execution_count": 17,
   "id": "626b0f1f",
   "metadata": {},
   "outputs": [
    {
     "name": "stdout",
     "output_type": "stream",
     "text": [
      "Number of Students? 3\n",
      "Enter marks 1\n",
      "Enter marks 2\n",
      "Enter marks 2\n",
      "[1, 2, 2]\n"
     ]
    }
   ],
   "source": [
    "n = int(input(\"Number of Students? \"))\n",
    "arrofmarks = []\n",
    "i = 0\n",
    "\n",
    "while True:\n",
    "    if(i==n):\n",
    "        break\n",
    "    i += 1\n",
    "    quizmarks = int(input(\"Enter marks \"))\n",
    "    arrofmarks.append(quizmarks)\n",
    "    \n",
    "print(arrofmarks)"
   ]
  },
  {
   "cell_type": "code",
   "execution_count": 18,
   "id": "cf5033ea",
   "metadata": {},
   "outputs": [
    {
     "name": "stdout",
     "output_type": "stream",
     "text": [
      "1\n",
      "3\n",
      "5\n",
      "1.6666666666666667\n"
     ]
    }
   ],
   "source": [
    "sumofarr = 0\n",
    "i = 0\n",
    "\n",
    "while (i < n):\n",
    "    sumofarr = sumofarr + arrofmarks[i]\n",
    "    print(sumofarr)\n",
    "    i = i + 1\n",
    "\n",
    "print(sumofarr/n)"
   ]
  },
  {
   "cell_type": "code",
   "execution_count": 16,
   "id": "adf5290e",
   "metadata": {},
   "outputs": [
    {
     "name": "stdout",
     "output_type": "stream",
     "text": [
      "Minimum value is 22\n",
      "Maximum value is 65\n"
     ]
    }
   ],
   "source": [
    "minimum = 101\n",
    "maximum = -1\n",
    "i = 0\n",
    "\n",
    "while (i < n):\n",
    "    if(arrofmarks[i] > maximum):\n",
    "        maximum = arrofmarks[i]\n",
    "    if(arrofmarks[i] < minimum):\n",
    "        minimum = arrofmarks[i]\n",
    "    i = i + 1\n",
    "\n",
    "if(minimum == 101):\n",
    "    print(\"No one is registered in this class.\")\n",
    "else:\n",
    "    print(\"Minimum value is\",minimum)\n",
    "    print(\"Maximum value is\", maximum)"
   ]
  },
  {
   "cell_type": "markdown",
   "id": "f0a56b7c",
   "metadata": {},
   "source": [
    "# Break statement in for loops"
   ]
  },
  {
   "cell_type": "code",
   "execution_count": 10,
   "id": "594831a7",
   "metadata": {},
   "outputs": [
    {
     "name": "stdout",
     "output_type": "stream",
     "text": [
      "aaple\n",
      "banana\n"
     ]
    }
   ],
   "source": [
    "fruits = ['aaple', 'banana', 'cherry']\n",
    "\n",
    "for x in fruits:\n",
    "    print(x)\n",
    "    if(x == 'banana'):\n",
    "        break"
   ]
  },
  {
   "cell_type": "code",
   "execution_count": null,
   "id": "28c66a21",
   "metadata": {},
   "outputs": [],
   "source": []
  }
 ],
 "metadata": {
  "kernelspec": {
   "display_name": "Python 3 (ipykernel)",
   "language": "python",
   "name": "python3"
  },
  "language_info": {
   "codemirror_mode": {
    "name": "ipython",
    "version": 3
   },
   "file_extension": ".py",
   "mimetype": "text/x-python",
   "name": "python",
   "nbconvert_exporter": "python",
   "pygments_lexer": "ipython3",
   "version": "3.9.13"
  }
 },
 "nbformat": 4,
 "nbformat_minor": 5
}
