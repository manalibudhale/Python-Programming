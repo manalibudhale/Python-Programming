{
 "cells": [
  {
   "cell_type": "code",
   "execution_count": 13,
   "id": "cd9cebaf",
   "metadata": {},
   "outputs": [
    {
     "name": "stdout",
     "output_type": "stream",
     "text": [
      "Enter the number of rows: 6\n",
      "1 \n",
      "2 1 \n",
      "3 2 1 \n",
      "4 3 2 1 \n",
      "5 4 3 2 1 \n",
      "6 5 4 3 2 1 \n"
     ]
    }
   ],
   "source": [
    "def myfunc(temp):\n",
    "    for i in range(1, temp + 1):\n",
    "        for n in range(i, 0, -1):\n",
    "            print(n, end=\" \")\n",
    "        print()\n",
    "            \n",
    "temp1 = int(input(\"Enter the number of rows: \"))\n",
    "myfunc(temp1)\n"
   ]
  },
  {
   "cell_type": "code",
   "execution_count": null,
   "id": "89460c7a",
   "metadata": {},
   "outputs": [],
   "source": []
  }
 ],
 "metadata": {
  "kernelspec": {
   "display_name": "Python 3 (ipykernel)",
   "language": "python",
   "name": "python3"
  },
  "language_info": {
   "codemirror_mode": {
    "name": "ipython",
    "version": 3
   },
   "file_extension": ".py",
   "mimetype": "text/x-python",
   "name": "python",
   "nbconvert_exporter": "python",
   "pygments_lexer": "ipython3",
   "version": "3.9.13"
  }
 },
 "nbformat": 4,
 "nbformat_minor": 5
}
