{
 "cells": [
  {
   "cell_type": "markdown",
   "id": "2529b3ae",
   "metadata": {},
   "source": [
    "# MINI-Project"
   ]
  },
  {
   "cell_type": "code",
   "execution_count": null,
   "id": "51a9fe87",
   "metadata": {},
   "outputs": [
    {
     "name": "stdout",
     "output_type": "stream",
     "text": [
      "Welcome to the Library Management System!\n"
     ]
    }
   ],
   "source": [
    "print(\"Welcome to the Library Management System!\")\n",
    "\n",
    "class Book:\n",
    "    def __init__(self, title, author, category, availability_status):\n",
    "        self.title = title\n",
    "        self.author = author\n",
    "        self.category = category\n",
    "        self.availability_status = availability_status\n",
    "\n",
    "\n",
    "class LibraryMember:\n",
    "    def __init__(self, name, id, max_books_borrowed):\n",
    "        self.name = name\n",
    "        self.id = id\n",
    "        self.max_books_borrowed = max_books_borrowed\n",
    "        self.books_borrowed = []\n",
    "\n",
    "    def borrow_book(self, book):\n",
    "        if len(self.books_borrowed) < self.max_books_borrowed:\n",
    "            self.books_borrowed.append(book)\n",
    "            return True\n",
    "        else:\n",
    "            return False\n",
    "\n",
    "def main():\n",
    "\n",
    "    total_books = int(input(\"Total number of books in the library: \"))\n",
    "    num_categories = int(input(\"Number of book categories: \"))\n",
    "    max_books_borrowed = int(input(\"Maximum number of books allowed to be borrowed by a single library member: \"))\n",
    "\n",
    "    books = []\n",
    "    for i in range(total_books):\n",
    "        print(f\"Enter details for Book {i + 1}:\")\n",
    "        title = input(\"Title: \")\n",
    "        author = input(\"Author: \")\n",
    "        category = input(\"Category: \")\n",
    "        availability_status = input(\"Availability Status (Available/Borrowed): \")\n",
    "        \n",
    "        books.append(Book(title, author, category, availability_status))\n",
    "\n",
    "    members = []\n",
    "    num_members = int(input(\"Enter the number of library members: \"))\n",
    "    for i in range(num_members):\n",
    "        print(f\"Enter details for Member {i + 1}:\")\n",
    "        name = input(\"Name: \")\n",
    "        member_id = input(\"ID: \")\n",
    "        num_borrowed = int(input(\"Number of books currently borrowed: \"))\n",
    "        member = LibraryMember(name, member_id, max_books_borrowed)\n",
    "        for j in range(num_borrowed):\n",
    "            print(f\"Enter details for Book {j + 1} borrowed by {name}:\")\n",
    "            book_index = int(input(\"Book index: \"))\n",
    "            member.borrow_book(books[book_index - 1])\n",
    "        members.append(member)\n",
    "\n",
    "    members_exceeded_limit = []\n",
    "    for member in members:\n",
    "        if len(member.books_borrowed) > member.max_books_borrowed:\n",
    "            members_exceeded_limit.append(member)\n",
    "\n",
    "    print(\"\\nLibrary Management System - Results:\")\n",
    "    print(\"Total number of books available:\", total_books - sum(len(member.books_borrowed) for member in members))\n",
    "    print(\"Library members who have exceeded the maximum number of books allowed to be borrowed:\")\n",
    "    for member in members_exceeded_limit:\n",
    "        print(f\"Member {member.id} ({member.name})\")\n",
    "        print(\"Books Borrowed:\")\n",
    "    for book in member.books_borrowed:\n",
    "        print(f\"Title: {book.title}, Author: {book.author}, Category: {book.category}\")\n",
    "\n",
    "\n",
    "if __name__ == \"__main__\":\n",
    "    main()\n"
   ]
  },
  {
   "cell_type": "code",
   "execution_count": null,
   "id": "0c384b04",
   "metadata": {},
   "outputs": [],
   "source": []
  },
  {
   "cell_type": "code",
   "execution_count": null,
   "id": "da18a317",
   "metadata": {},
   "outputs": [],
   "source": []
  }
 ],
 "metadata": {
  "kernelspec": {
   "display_name": "Python 3 (ipykernel)",
   "language": "python",
   "name": "python3"
  },
  "language_info": {
   "codemirror_mode": {
    "name": "ipython",
    "version": 3
   },
   "file_extension": ".py",
   "mimetype": "text/x-python",
   "name": "python",
   "nbconvert_exporter": "python",
   "pygments_lexer": "ipython3",
   "version": "3.9.13"
  }
 },
 "nbformat": 4,
 "nbformat_minor": 5
}
