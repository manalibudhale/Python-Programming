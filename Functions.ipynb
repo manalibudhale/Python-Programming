{
 "cells": [
  {
   "cell_type": "code",
   "execution_count": 1,
   "id": "54a3ad9d",
   "metadata": {},
   "outputs": [
    {
     "name": "stdout",
     "output_type": "stream",
     "text": [
      "16\n"
     ]
    }
   ],
   "source": [
    "for i in range(5):\n",
    "    for j in range(5):\n",
    "        temp = i * j \n",
    "print(temp)"
   ]
  },
  {
   "cell_type": "code",
   "execution_count": 2,
   "id": "aadb5ec6",
   "metadata": {},
   "outputs": [
    {
     "name": "stdout",
     "output_type": "stream",
     "text": [
      "31\n",
      "56\n"
     ]
    }
   ],
   "source": [
    "def myfunc(temp1):\n",
    "    print(temp1)\n",
    "    return temp1 + 25\n",
    "    \n",
    "temp2 = myfunc(31)\n",
    "print(temp2)"
   ]
  },
  {
   "cell_type": "code",
   "execution_count": 3,
   "id": "cc4188cf",
   "metadata": {},
   "outputs": [
    {
     "name": "stdout",
     "output_type": "stream",
     "text": [
      "12\n",
      "13\n",
      "17\n"
     ]
    }
   ],
   "source": [
    "temp1 = 10\n",
    "\n",
    "def myfunc():\n",
    "    global temp1\n",
    "    temp1 = temp1 + 2\n",
    "    print(temp1)\n",
    "    return temp1 + 1\n",
    "\n",
    "#not partion of function\n",
    "\n",
    "temp2 = myfunc()\n",
    "temp1 = temp1 + 5\n",
    "\n",
    "print(temp2)\n",
    "print(temp1)"
   ]
  },
  {
   "cell_type": "code",
   "execution_count": 4,
   "id": "93737e7a",
   "metadata": {},
   "outputs": [
    {
     "name": "stdout",
     "output_type": "stream",
     "text": [
      "Enter first number 25\n",
      "Enter second number 65\n",
      "Sum of the numbers are:  90\n"
     ]
    }
   ],
   "source": [
    "# This function will add 2 numbers using def function\n",
    "# Function must be written at the top of the code\n",
    "\n",
    "def add_my_number(a,b):\n",
    "    sum1 = a + b\n",
    "    return sum1\n",
    "\n",
    "c = int(input(\"Enter first number \"))\n",
    "d = int(input(\"Enter second number \"))\n",
    "\n",
    "n = add_my_number(c,d)\n",
    "\n",
    "print(\"Sum of the numbers are: \",n)"
   ]
  },
  {
   "cell_type": "code",
   "execution_count": 5,
   "id": "7ff43c88",
   "metadata": {},
   "outputs": [
    {
     "name": "stdout",
     "output_type": "stream",
     "text": [
      "My sum of the array is:  15\n"
     ]
    }
   ],
   "source": [
    "def myfunc(a):\n",
    "    sum1 = 0\n",
    "    for i in a:\n",
    "        sum1 = sum1 + i\n",
    "    return sum1\n",
    "\n",
    "c = [1,2,3,4,5]\n",
    "\n",
    "res = myfunc(c)\n",
    "\n",
    "print(\"My sum of the array is: \", res)"
   ]
  },
  {
   "cell_type": "code",
   "execution_count": 10,
   "id": "b5f608d6",
   "metadata": {},
   "outputs": [
    {
     "name": "stdout",
     "output_type": "stream",
     "text": [
      "Total number of elements: 3\n",
      "Enter grades: 2\n",
      "Enter grades: 54\n",
      "Enter grades: 8\n"
     ]
    }
   ],
   "source": [
    "#Input grades into the array using your array input function\n",
    "\n",
    "def input_array():\n",
    "    arr = []\n",
    "    numberofelements = int(input(\"Total number of elements: \"))\n",
    "    for i in range(numberofelements):\n",
    "        element = int(input(\"Enter grades: \"))\n",
    "        arr.append(element)\n",
    "    #print(arr)\n",
    "    return arr\n",
    "\n",
    "mygrades = input_array()\n",
    "#print(mygrades)"
   ]
  },
  {
   "cell_type": "code",
   "execution_count": 11,
   "id": "d39024ad",
   "metadata": {},
   "outputs": [
    {
     "name": "stdout",
     "output_type": "stream",
     "text": [
      "Average of grades is:  21.333333333333332\n"
     ]
    }
   ],
   "source": [
    "#Write a function to average the grades\n",
    "\n",
    "def func_avg_grades(arr):\n",
    "    sum1 = 0\n",
    "    n = 0\n",
    "    for i in arr:\n",
    "        n = n + 1\n",
    "        sum1 = sum1 + i\n",
    "    average = sum1 / n\n",
    "    return average\n",
    "\n",
    "ave = func_avg_grades(mygrades)\n",
    "\n",
    "print(\"Average of grades is: \",ave)"
   ]
  },
  {
   "cell_type": "code",
   "execution_count": 20,
   "id": "19f4c08b",
   "metadata": {},
   "outputs": [
    {
     "name": "stdout",
     "output_type": "stream",
     "text": [
      "Minimum value is 2\n",
      "Maximum value is 54\n",
      "The lowest grade is 2\n",
      "The highest grade is 54\n"
     ]
    }
   ],
   "source": [
    "def func_lowest_highest_grades(arr):\n",
    "    min = 101\n",
    "    max = -1\n",
    "\n",
    "    for i in arr:\n",
    "        if (i>max):\n",
    "            max = i\n",
    "        if (i<min):\n",
    "            min = i\n",
    "\n",
    "    if(min == 101):\n",
    "        print(\"No one is registered in this class.\")\n",
    "    else:\n",
    "        print(\"Minimum value is\",min)\n",
    "        print(\"Maximum value is\", max)    \n",
    "    return min, max\n",
    "\n",
    "mini, maxi = func_lowest_highest_grades(mygrades)\n",
    "\n",
    "print(\"The lowest grade is\",mini)\n",
    "print(\"The highest grade is\",maxi)"
   ]
  },
  {
   "cell_type": "code",
   "execution_count": null,
   "id": "e0e16384",
   "metadata": {},
   "outputs": [],
   "source": []
  }
 ],
 "metadata": {
  "kernelspec": {
   "display_name": "Python 3 (ipykernel)",
   "language": "python",
   "name": "python3"
  },
  "language_info": {
   "codemirror_mode": {
    "name": "ipython",
    "version": 3
   },
   "file_extension": ".py",
   "mimetype": "text/x-python",
   "name": "python",
   "nbconvert_exporter": "python",
   "pygments_lexer": "ipython3",
   "version": "3.9.13"
  }
 },
 "nbformat": 4,
 "nbformat_minor": 5
}
